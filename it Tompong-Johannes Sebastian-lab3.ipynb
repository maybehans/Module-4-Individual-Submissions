{
 "cells": [
  {
   "cell_type": "markdown",
   "metadata": {},
   "source": [
    "172266\n",
    "Tompong\n",
    "BS Management"
   ]
  },
  {
   "cell_type": "markdown",
   "metadata": {},
   "source": [
    "### Problem 1"
   ]
  },
  {
   "cell_type": "code",
   "execution_count": 18,
   "metadata": {},
   "outputs": [
    {
     "name": "stdout",
     "output_type": "stream",
     "text": [
      "Status: friends\n",
      "None\n",
      "None\n",
      "None\n",
      "None\n"
     ]
    }
   ],
   "source": [
    "# Social Media Example\n",
    "def relationship_status(from_member, to_member):\n",
    "    if from_member in social_graph[to_member]['following']:\n",
    "        if to_member in social_graph[from_member]['following']:\n",
    "            print('Status: friends')\n",
    "    elif from_member in social_graph[to_member]['following']:\n",
    "        print('Status: followed by')\n",
    "    else:\n",
    "        return None\n",
    "        \n",
    "# Social Graph\n",
    "social_graph = {\n",
    "    \"@bongolpoc\":{\"first_name\":\"Joselito\",\n",
    "                  \"last_name\":\"Olpoc\",\n",
    "                  \"following\":[\n",
    "                  ]\n",
    "    },\n",
    "    \"@joaquin\":  {\"first_name\":\"Joaquin\",\n",
    "                  \"last_name\":\"Gonzales\",\n",
    "                  \"following\":[\n",
    "                      \"@chums\",\"@jobenilagan\"\n",
    "                  ]\n",
    "    },\n",
    "    \"@chums\" : {\"first_name\":\"Matthew\",\n",
    "                \"last_name\":\"Uy\",\n",
    "                \"following\":[\n",
    "                    \"@bongolpoc\",\"@miketan\",\"@rudyang\",\"@joeilagan\"\n",
    "                ]\n",
    "    },\n",
    "    \"@jobenilagan\":{\"first_name\":\"Joben\",\n",
    "                   \"last_name\":\"Ilagan\",\n",
    "                   \"following\":[\n",
    "                    \"@eeebeee\",\"@joeilagan\",\"@chums\",\"@joaquin\"\n",
    "                   ]\n",
    "    },\n",
    "    \"@joeilagan\":{\"first_name\":\"Joe\",\n",
    "                  \"last_name\":\"Ilagan\",\n",
    "                  \"following\":[\n",
    "                    \"@eeebeee\",\"@jobenilagan\",\"@chums\"\n",
    "                  ]\n",
    "    },\n",
    "    \"@eeebeee\":  {\"first_name\":\"Elizabeth\",\n",
    "                  \"last_name\":\"Ilagan\",\n",
    "                  \"following\":[\n",
    "                    \"@jobenilagan\",\"@joeilagan\"\n",
    "                  ]\n",
    "    },\n",
    "}\n",
    "\n",
    "\n",
    "# Social Media Status Relationships \n",
    "print(relationship_status(\"@eeebeee\",\"@jobenilagan\")) \n",
    "print(relationship_status(\"@jobenilagan\",\"@chums\")) \n",
    "print(relationship_status(\"@chums\",\"@jobenilagan\")) \n",
    "print(relationship_status(\"@eeebeee\",\"@chums\")) "
   ]
  },
  {
   "cell_type": "markdown",
   "metadata": {},
   "source": [
    "### Problem 2"
   ]
  },
  {
   "cell_type": "code",
   "execution_count": 49,
   "metadata": {},
   "outputs": [
    {
     "name": "stdout",
     "output_type": "stream",
     "text": [
      "None\n",
      "None\n",
      "None\n",
      "None\n",
      "None\n",
      "None\n"
     ]
    }
   ],
   "source": [
    "def get_winner(board):\n",
    "    winner = None\n",
    "\n",
    "def check_rows(board):\n",
    "    for row in range(len(board)):\n",
    "        if len(set(row)) == 1 and ' ' in row:\n",
    "            winner = row[0]\n",
    "            return winner\n",
    "        \n",
    "def check_columns(board):\n",
    "    for column in range(len(board)):\n",
    "        if range(len(board)) == 1:\n",
    "            winner = column[0]\n",
    "            return winner\n",
    "        \n",
    "def check_diagonals1(board):\n",
    "    diagonals1 = [board[i][i] for i in range(3)]\n",
    "    if len(set(diagonals1)) == 1:\n",
    "        return board[1][1]\n",
    "    \n",
    "def check_diagonals2(board):\n",
    "    diagonals2 = [board[i][len(board)-i-1] for i in range(3)]\n",
    "    if len(set(diagonals2)) == 1:\n",
    "        return board[1][len(board)-1]\n",
    "    \n",
    "    return winner\n",
    "\n",
    "board1 = [\n",
    "['X','X','O'],\n",
    "['O','X','O'],\n",
    "['O','','X'],\n",
    "]\n",
    "\n",
    "board2 = [\n",
    "['X','X','O'],\n",
    "['O','X','O'],\n",
    "['','O','X'],\n",
    "]\n",
    "\n",
    "board3 = [\n",
    "['O','X','O'],\n",
    "['','O','X'],\n",
    "['X','X','O'],\n",
    "]\n",
    "\n",
    "board4 = [\n",
    "['X','X','X'],\n",
    "['O','X','O'],\n",
    "['O','','O'],\n",
    "]\n",
    "\n",
    "board5 = [\n",
    "['X','X','O'],\n",
    "['O','X','O'],\n",
    "['X','','O'],\n",
    "]\n",
    "\n",
    "board6 = [\n",
    "['X','X','O'],\n",
    "['O','X','O'],\n",
    "['X','',''],\n",
    "]\n",
    "\n",
    "#sample boards\n",
    "print(get_winner(board1))\n",
    "print(get_winner(board2))\n",
    "print(get_winner(board3))\n",
    "print(get_winner(board4))\n",
    "print(get_winner(board5))\n",
    "print(get_winner(board6))\n",
    "\n"
   ]
  },
  {
   "cell_type": "markdown",
   "metadata": {},
   "source": [
    "### Problem 3"
   ]
  },
  {
   "cell_type": "code",
   "execution_count": 12,
   "metadata": {},
   "outputs": [
    {
     "name": "stdout",
     "output_type": "stream",
     "text": [
      "{'travel_time_mins': 35}\n"
     ]
    }
   ],
   "source": [
    "# time between destinations\n",
    "legs = {\n",
    "     (\"upd\",\"admu\"):{\n",
    "         \"travel_time_mins\":10\n",
    "     },\n",
    "     (\"admu\",\"dlsu\"):{\n",
    "         \"travel_time_mins\":35\n",
    "     },\n",
    "     (\"dlsu\",\"upd\"):{\n",
    "         \"travel_time_mins\":55\n",
    "     }\n",
    "}\n",
    "    \n",
    "\n",
    "# source\n",
    "def source_time(dest):\n",
    "    for i in range(len(dest)):\n",
    "        if dest[i][0] == source:\n",
    "            src_travel = legs[dest[i]]\n",
    "            src_time = srctravel_time[\"estimated_time\"]\n",
    "            return src_time\n",
    "\n",
    "# destination\n",
    "def destination_time(dest):\n",
    "    for i in range(len(dest)):\n",
    "        if dest[i][1] == destination:\n",
    "            dest_travel = legs[dest[i]]\n",
    "            dest_time = desttravel_time[\"estimated_time\"]\n",
    "            return dest_time\n",
    "    \n",
    "# ETA\n",
    "dest = list(legs.keys())\n",
    "def eta(source,destination):\n",
    "    for i in range(len(dest)):\n",
    "        if dest[i][0] == source and dest[i][1] == destination:\n",
    "            ETA = legs[dest[i]]\n",
    "            return ETA\n",
    "        \n",
    "print(eta('admu','dlsu'))"
   ]
  },
  {
   "cell_type": "code",
   "execution_count": null,
   "metadata": {},
   "outputs": [],
   "source": []
  }
 ],
 "metadata": {
  "kernelspec": {
   "display_name": "Python 3",
   "language": "python",
   "name": "python3"
  },
  "language_info": {
   "codemirror_mode": {
    "name": "ipython",
    "version": 3
   },
   "file_extension": ".py",
   "mimetype": "text/x-python",
   "name": "python",
   "nbconvert_exporter": "python",
   "pygments_lexer": "ipython3",
   "version": "3.8.5"
  }
 },
 "nbformat": 4,
 "nbformat_minor": 4
}
