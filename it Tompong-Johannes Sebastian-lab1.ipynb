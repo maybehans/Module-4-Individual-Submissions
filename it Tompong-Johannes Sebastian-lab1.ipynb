{
 "cells": [
  {
   "cell_type": "markdown",
   "metadata": {},
   "source": [
    "172266\n",
    "Tompong\n",
    "4 BS Management"
   ]
  },
  {
   "cell_type": "code",
   "execution_count": 8,
   "metadata": {},
   "outputs": [
    {
     "name": "stdout",
     "output_type": "stream",
     "text": [
      "Enter amount in USD:10\n",
      "10 USD = 500 PHP\n"
     ]
    }
   ],
   "source": [
    "def dollars_to_pesos(dollars):\n",
    "     convert = dollars * 50\n",
    "     return convert\n",
    "\n",
    "dollars = int(input(\"Enter amount in USD:\"))\n",
    "\n",
    "convert = dollars_to_pesos(dollars)\n",
    "\n",
    "print(dollars, \"USD =\", convert, \"PHP\")"
   ]
  },
  {
   "cell_type": "code",
   "execution_count": 4,
   "metadata": {},
   "outputs": [
    {
     "name": "stdout",
     "output_type": "stream",
     "text": [
      "Positive integer 1: 20\n",
      "Positive integer 2: 6\n",
      "Sum: 26\n",
      "Less: 14\n",
      "Product: 120\n",
      "Quotient: 3\n",
      "Remainder: 2\n"
     ]
    }
   ],
   "source": [
    "a = int(input('Positive integer 1: '))\n",
    "b = int(input('Positive integer 2: '))\n",
    "\n",
    "if a <= 0 or b <= 0:\n",
    "    print('Not a positive integer')\n",
    "else:\n",
    "    def output(a, b):\n",
    "        print('Sum:', a + b)\n",
    "        print('Less:', a - b)\n",
    "        print('Product:', a * b)\n",
    "        print('Quotient:', a // b)\n",
    "        print('Remainder:', a % b)\n",
    "        \n",
    "output(a, b)"
   ]
  },
  {
   "cell_type": "code",
   "execution_count": null,
   "metadata": {},
   "outputs": [],
   "source": [
    "def convert_cm_to_m(cm):\n",
    "    float(cm)\n",
    "    return cm * 0.01\n",
    "\n",
    "kg = float(input('Weight in kg: '))\n",
    "m = float(convert_cm_to_m(float(input('Height in cm: '))))\n",
    "\n",
    "def compute_bmi(weight, height):\n",
    "    bmi = float(weight / height**2)\n",
    "    print('BMI is:', bmi)\n",
    "\n",
    "compute_bmi(kg, m)"
   ]
  },
  {
   "cell_type": "code",
   "execution_count": null,
   "metadata": {},
   "outputs": [],
   "source": []
  }
 ],
 "metadata": {
  "kernelspec": {
   "display_name": "Python 3",
   "language": "python",
   "name": "python3"
  },
  "language_info": {
   "codemirror_mode": {
    "name": "ipython",
    "version": 3
   },
   "file_extension": ".py",
   "mimetype": "text/x-python",
   "name": "python",
   "nbconvert_exporter": "python",
   "pygments_lexer": "ipython3",
   "version": "3.8.5"
  }
 },
 "nbformat": 4,
 "nbformat_minor": 4
}
