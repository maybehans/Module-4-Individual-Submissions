{
 "cells": [
  {
   "cell_type": "code",
   "execution_count": 8,
   "metadata": {},
   "outputs": [],
   "source": [
    "# circumference of a circle\n",
    "def circle_circumference(circumference):\n",
    "    pi = 3.1416\n",
    "    r = diameter/2\n",
    "    circumference = 2 * pi * r\n",
    "    return circumference"
   ]
  },
  {
   "cell_type": "code",
   "execution_count": 7,
   "metadata": {},
   "outputs": [
    {
     "name": "stdout",
     "output_type": "stream",
     "text": [
      "Sample 5 letter word:paint\n",
      "tniap\n"
     ]
    }
   ],
   "source": [
    "# reverse string\n",
    "input_str = input(\"Sample 5 letter word:\")\n",
    "if len(input_str) > 5:\n",
    "    print(\"Only 5 letter words are allowed\")\n",
    "else:\n",
    "    def reverse_string(input_str):\n",
    "        return input_str[::-1]\n",
    "\n",
    "    print(reverse_string(input_str))"
   ]
  },
  {
   "cell_type": "code",
   "execution_count": 9,
   "metadata": {},
   "outputs": [],
   "source": [
    "# back addition\n",
    "def backAddition(number):\n",
    "    total = 0\n",
    "    for number in range(number + 1):\n",
    "        total += number\n",
    "    return total"
   ]
  },
  {
   "cell_type": "code",
   "execution_count": 21,
   "metadata": {},
   "outputs": [
    {
     "name": "stdout",
     "output_type": "stream",
     "text": [
      "The answer is: -25164150\n"
     ]
    }
   ],
   "source": [
    "# get sum of squares\n",
    "def sum_squares(n):\n",
    "    n=100\n",
    "    sum_sq = 0\n",
    "    for n in range(1, n+1):\n",
    "        sum_sq += n * n\n",
    "    return sum_sq\n",
    "\n",
    "\n",
    "# get square of sums\n",
    "def square_sums(n):\n",
    "    n=100\n",
    "    square_sum = 0\n",
    "    for n in range(1, n+1):\n",
    "        square_sum += n\n",
    "        total = square_sum*square_sum\n",
    "    return total\n",
    "\n",
    "n=100\n",
    "\n",
    "print(\"The answer is:\", sum_squares(n) - square_sums(n))"
   ]
  },
  {
   "cell_type": "code",
   "execution_count": 12,
   "metadata": {},
   "outputs": [
    {
     "name": "stdout",
     "output_type": "stream",
     "text": [
      "Enter a positive integer: 120\n",
      "1 0 0 4 20\n"
     ]
    }
   ],
   "source": [
    "# point of sale\n",
    "pos_input = float(input(\"Enter a positive integer: \"))\n",
    "if pos_input <= 0:\n",
    "    print(\"Not a positive integer\")\n",
    "else:\n",
    "    peso = int(pos_input / 100)\n",
    "    a = pos_input % 100\n",
    "    cent = int(a / 1)\n",
    "    cents_5 = int(a / 5)\n",
    "    a = pos_input % 5\n",
    "    cents_10 = int(a / 10)\n",
    "    a = pos_input % 10\n",
    "    cents_25 = int(a / 25)\n",
    "    a = pos_input % 25\n",
    "    print(peso, cents_25, cents_10, cents_5, cent)\n",
    "   \n"
   ]
  }
 ],
 "metadata": {
  "kernelspec": {
   "display_name": "Python 3",
   "language": "python",
   "name": "python3"
  },
  "language_info": {
   "codemirror_mode": {
    "name": "ipython",
    "version": 3
   },
   "file_extension": ".py",
   "mimetype": "text/x-python",
   "name": "python",
   "nbconvert_exporter": "python",
   "pygments_lexer": "ipython3",
   "version": "3.8.5"
  }
 },
 "nbformat": 4,
 "nbformat_minor": 4
}
